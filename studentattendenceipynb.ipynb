{
  "nbformat": 4,
  "nbformat_minor": 0,
  "metadata": {
    "colab": {
      "provenance": [],
      "authorship_tag": "ABX9TyPkURv21eC4tcJz++f4lbIe",
      "include_colab_link": true
    },
    "kernelspec": {
      "name": "python3",
      "display_name": "Python 3"
    },
    "language_info": {
      "name": "python"
    }
  },
  "cells": [
    {
      "cell_type": "markdown",
      "metadata": {
        "id": "view-in-github",
        "colab_type": "text"
      },
      "source": [
        "<a href=\"https://colab.research.google.com/github/raunakyadav92/studentattendence/blob/main/studentattendenceipynb.ipynb\" target=\"_parent\"><img src=\"https://colab.research.google.com/assets/colab-badge.svg\" alt=\"Open In Colab\"/></a>"
      ]
    },
    {
      "cell_type": "code",
      "execution_count": 1,
      "metadata": {
        "colab": {
          "base_uri": "https://localhost:8080/"
        },
        "id": "8PIJYiXcTJAp",
        "outputId": "ed2efff3-6ad3-4009-98cb-5d4f598b8b11"
      },
      "outputs": [
        {
          "output_type": "stream",
          "name": "stdout",
          "text": [
            "\n",
            "🎓 Student Attendance System 🎓\n",
            "\n",
            "\n",
            "1. Mark Attendance\n",
            "2. Show Attendance\n",
            "3. Exit\n",
            "Enter your choice (1-3): 3\n",
            "✅ Attendance saved. Exiting...\n"
          ]
        }
      ],
      "source": [
        "attendance = {}\n",
        "\n",
        "def mark_attendance(name):\n",
        "    attendance[name] = \"Present\"\n",
        "\n",
        "def show_attendance():\n",
        "    print(\"\\n📋 Today's Attendance List:\")\n",
        "    for student, status in attendance.items():\n",
        "        print(f\"{student} - {status}\")\n",
        "\n",
        "print(\"\\n🎓 Student Attendance System 🎓\\n\")\n",
        "\n",
        "while True:\n",
        "    print(\"\\n1. Mark Attendance\")\n",
        "    print(\"2. Show Attendance\")\n",
        "    print(\"3. Exit\")\n",
        "    choice = input(\"Enter your choice (1-3): \")\n",
        "\n",
        "    if choice == '1':\n",
        "        name = input(\"Enter student name: \")\n",
        "        mark_attendance(name)\n",
        "        print(f\"✅ {name}'s attendance marked.\")\n",
        "    elif choice == '2':\n",
        "        show_attendance()\n",
        "    elif choice == '3':\n",
        "        print(\"✅ Attendance saved. Exiting...\")\n",
        "        break\n",
        "    else:\n",
        "        print(\"❌ Invalid choice! Please try again.\")\n"
      ]
    }
  ]
}